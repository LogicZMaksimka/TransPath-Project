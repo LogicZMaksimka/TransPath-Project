{
 "cells": [
  {
   "cell_type": "code",
   "execution_count": 1,
   "metadata": {},
   "outputs": [],
   "source": [
    "import pandas as pd\n",
    "import numpy as np\n",
    "from pathlib import Path\n",
    "import matplotlib.pyplot as plt\n",
    "from tqdm import tqdm\n",
    "from collections import defaultdict\n",
    "import cv2 as cv"
   ]
  },
  {
   "cell_type": "markdown",
   "metadata": {},
   "source": [
    "## Random Maps"
   ]
  },
  {
   "cell_type": "code",
   "execution_count": null,
   "metadata": {},
   "outputs": [],
   "source": [
    "def load_map(path):\n",
    "    with open(path, \"r\") as f:\n",
    "        lines = f.readlines()\n",
    "    height = int(lines[1].split()[1])\n",
    "    width = int(lines[2].split()[1])\n",
    "    cells = np.zeros((height, width))\n",
    "    for i, line in enumerate(lines[4:]):\n",
    "        for j, char in enumerate(line.strip()):\n",
    "            if char == '@':\n",
    "                cells[i, j] = 1\n",
    "            elif char == '.' or char == \"T\":\n",
    "                cells[i, j] = 0\n",
    "            else:\n",
    "                ValueError('Incorrect cell type')\n",
    "    return cells"
   ]
  },
  {
   "cell_type": "code",
   "execution_count": null,
   "metadata": {},
   "outputs": [],
   "source": [
    "load_dir = Path(\"/archive/savkin/raw_datasets/MIPT/TransPath_data/maps\")\n",
    "\n",
    "map = load_map(load_dir / \"random-map\" / \"random512-40-9.map\")\n",
    "\n",
    "plt.imshow(map)\n",
    "plt.show()"
   ]
  },
  {
   "cell_type": "code",
   "execution_count": null,
   "metadata": {},
   "outputs": [],
   "source": [
    "random_maps_dir = load_dir / \"random-map\"\n",
    "map_densities = np.arange(10, 41, 5)\n",
    "random_maps = []\n",
    "for density in tqdm(map_densities):\n",
    "    for i in range(10):\n",
    "        map = load_map(random_maps_dir / f\"random512-{density}-{i}.map\")\n",
    "        random_maps.append(map)\n",
    "\n",
    "random_maps = np.array(random_maps)\n",
    "random_maps.shape"
   ]
  },
  {
   "cell_type": "code",
   "execution_count": null,
   "metadata": {},
   "outputs": [],
   "source": [
    "np.save(random_maps_dir / \"all_rand_maps.npy\", random_maps)"
   ]
  },
  {
   "cell_type": "markdown",
   "metadata": {},
   "source": [
    "## Street Maps"
   ]
  },
  {
   "cell_type": "code",
   "execution_count": null,
   "metadata": {},
   "outputs": [],
   "source": [
    "street_maps_dir = load_dir / \"street-map\"\n",
    "street_maps = defaultdict(list)\n",
    "for path in tqdm(street_maps_dir.iterdir()):\n",
    "    map = load_map(path)\n",
    "    edge_size = map.shape[0]\n",
    "    street_maps[edge_size].append(map)"
   ]
  },
  {
   "cell_type": "code",
   "execution_count": null,
   "metadata": {},
   "outputs": [],
   "source": [
    "for edge_size, maps in street_maps.items():\n",
    "    np.save(load_dir / \"my_maps\" / f\"street_maps_{edge_size}.npy\", maps)"
   ]
  },
  {
   "cell_type": "markdown",
   "metadata": {},
   "source": [
    "## Tile MP Dataset"
   ]
  },
  {
   "cell_type": "code",
   "execution_count": null,
   "metadata": {},
   "outputs": [],
   "source": [
    "path = \"/home/logiczmaksimka/Documents/MIPT/10sem/heuristics/TransPath-Project/data/all_128x2.npz\"\n",
    "\n",
    "data = np.load(path)"
   ]
  },
  {
   "cell_type": "markdown",
   "metadata": {},
   "source": [
    "Let's take a look at generated cf"
   ]
  },
  {
   "cell_type": "code",
   "execution_count": null,
   "metadata": {},
   "outputs": [],
   "source": [
    "cf_pred = np.load(\"/home/logiczmaksimka/Downloads/val/cf_pred.npy\")\n",
    "cf_true = np.load(\"/home/logiczmaksimka/Downloads/val/cf.npy\")\n",
    "\n",
    "i = 0\n",
    "p = cf_pred[i][0]\n",
    "t = cf_true[i][0]\n",
    "\n",
    "\n",
    "plt.imshow(p, vmin=0, vmax=1)\n",
    "plt.show()\n",
    "\n",
    "plt.imshow(t)\n",
    "plt.show()"
   ]
  },
  {
   "cell_type": "markdown",
   "metadata": {},
   "source": [
    "## Augmentations"
   ]
  },
  {
   "cell_type": "code",
   "execution_count": 2,
   "metadata": {},
   "outputs": [
    {
     "data": {
      "text/plain": [
       "KeysView(<numpy.lib.npyio.NpzFile object at 0x7fa9006e9df0>)"
      ]
     },
     "execution_count": 2,
     "metadata": {},
     "output_type": "execute_result"
    }
   ],
   "source": [
    "load_dir = Path(\"/home/savkin/MIPT/2024/TransPath Project/data\")\n",
    "load_path = load_dir / \"all_32x8.npz\"\n",
    "maps = np.load(load_path)\n",
    "maps.keys()"
   ]
  },
  {
   "cell_type": "code",
   "execution_count": 3,
   "metadata": {},
   "outputs": [],
   "source": [
    "def augment_map(map):\n",
    "    rotation_types = [cv.ROTATE_90_CLOCKWISE, cv.ROTATE_180, cv.ROTATE_90_COUNTERCLOCKWISE]\n",
    "    fliped_map = cv.flip(map, 0)\n",
    "    augmented_maps = [\n",
    "        map,\n",
    "        *[cv.rotate(map, rotation_type) for rotation_type in rotation_types],\n",
    "        fliped_map,\n",
    "        *[cv.rotate(fliped_map, rotation_type) for rotation_type in rotation_types]\n",
    "    ]\n",
    "    return augmented_maps"
   ]
  },
  {
   "cell_type": "code",
   "execution_count": 5,
   "metadata": {},
   "outputs": [
    {
     "name": "stderr",
     "output_type": "stream",
     "text": [
      "100%|██████████| 3200/3200 [00:07<00:00, 412.70it/s]\n",
      "100%|██████████| 400/400 [00:00<00:00, 460.64it/s]\n",
      "100%|██████████| 400/400 [00:00<00:00, 428.23it/s]"
     ]
    },
    {
     "name": "stdout",
     "output_type": "stream",
     "text": [
      "1  0  0  0  0  0  0  0  \n",
      "0  1  0  0  0  0  0  0  \n",
      "0  0  1  0  0  0  0  0  \n",
      "0  0  0  1  0  0  0  0  \n",
      "0  0  0  0  1  0  0  0  \n",
      "0  0  0  0  0  1  0  0  \n",
      "0  0  0  0  0  0  1  0  \n",
      "0  0  0  0  0  0  0  1  \n"
     ]
    },
    {
     "name": "stderr",
     "output_type": "stream",
     "text": [
      "\n"
     ]
    }
   ],
   "source": [
    "augmented_maps = {}\n",
    "for orig_name, new_name in [(\"arr_0\", \"train\"), (\"arr_1\", \"valid\"), (\"arr_2\", \"test\")]:\n",
    "    generated_maps = []\n",
    "    for map in tqdm(maps[orig_name]):\n",
    "        generated_maps = generated_maps + augment_map(map)\n",
    "    augmented_maps[new_name] = generated_maps\n",
    "\n",
    "# quick check for duplicates\n",
    "x = [map for map in augmented_maps[\"train\"][:8]]\n",
    "for i in range(len(x)):\n",
    "    for j in range(len(x)):\n",
    "        print(np.prod(x[i] == x[j]), \" \", end=\"\")\n",
    "    print()"
   ]
  },
  {
   "cell_type": "markdown",
   "metadata": {},
   "source": [
    "# Generating goal nodes"
   ]
  },
  {
   "cell_type": "code",
   "execution_count": 6,
   "metadata": {},
   "outputs": [],
   "source": [
    "def suggest_goals(map, n=10):\n",
    "    empty_cells = np.array(list(zip(*np.where(map == 1))))\n",
    "    goal_ids = np.random.choice(np.arange(len(empty_cells)), size=n, replace=False)\n",
    "    goal_cells = empty_cells[goal_ids]\n",
    "\n",
    "    # goal_maps = np.full((n, *map.shape), 0)\n",
    "    # for i, cell in enumerate(goal_cells):\n",
    "    #     goal_maps[i][cell[0], cell[1]] = 1\n",
    "\n",
    "    return goal_cells"
   ]
  },
  {
   "cell_type": "code",
   "execution_count": null,
   "metadata": {},
   "outputs": [],
   "source": [
    "map = augmented_maps[\"train\"][1].copy()\n",
    "map = map[:64, :64]\n",
    "goal_maps = suggest_goals(map)\n",
    "# plt.imshow(map)\n",
    "# plt.show()\n",
    "plt.imshow(goal_maps[0])\n",
    "plt.show()"
   ]
  },
  {
   "cell_type": "code",
   "execution_count": 7,
   "metadata": {},
   "outputs": [
    {
     "name": "stderr",
     "output_type": "stream",
     "text": [
      "100%|██████████| 25600/25600 [10:33<00:00, 40.39it/s]\n",
      "100%|██████████| 3200/3200 [01:15<00:00, 42.53it/s]\n",
      "100%|██████████| 3200/3200 [01:18<00:00, 40.80it/s]\n"
     ]
    }
   ],
   "source": [
    "tasks = {}\n",
    "for data_type in [\"train\", \"valid\", \"test\"]:\n",
    "    new_tasks = []\n",
    "    for map in tqdm(augmented_maps[data_type]):\n",
    "        new_tasks.append(suggest_goals(map))\n",
    "    tasks[data_type] = new_tasks"
   ]
  },
  {
   "cell_type": "markdown",
   "metadata": {},
   "source": [
    "Saving"
   ]
  },
  {
   "cell_type": "code",
   "execution_count": 8,
   "metadata": {},
   "outputs": [],
   "source": [
    "save_path = \"/archive/savkin/raw_datasets/MIPT/TransPath_data/tile_mp_256/all_32x8_augmented_goals.npz\"\n",
    "np.savez(save_path, train=tasks[\"train\"], valid=tasks[\"valid\"], test=tasks[\"test\"])"
   ]
  },
  {
   "cell_type": "code",
   "execution_count": 9,
   "metadata": {},
   "outputs": [],
   "source": [
    "save_path = \"/archive/savkin/raw_datasets/MIPT/TransPath_data/tile_mp_256/all_32x8_augmented_maps.npz\"\n",
    "np.savez(save_path, train=augmented_maps[\"train\"], valid=augmented_maps[\"valid\"], test=augmented_maps[\"test\"])"
   ]
  },
  {
   "cell_type": "code",
   "execution_count": null,
   "metadata": {},
   "outputs": [],
   "source": [
    "save_path = \"/archive/savkin/raw_datasets/MIPT/TransPath_data/tile_mp_256/all_32x8_augmented.npy\"\n",
    "np.save(save_path, augmented_maps)"
   ]
  },
  {
   "cell_type": "markdown",
   "metadata": {},
   "source": []
  },
  {
   "cell_type": "markdown",
   "metadata": {},
   "source": [
    "# Generating true distances"
   ]
  },
  {
   "cell_type": "code",
   "execution_count": null,
   "metadata": {},
   "outputs": [],
   "source": [
    "from cf_generation import fill_true_dists_8_way, diagonal_distance, Map, Node, extract_node_pos\n",
    "\n",
    "cf_pred_arr = []\n",
    "# for i in tqdm(range(10)):\n",
    "#     map = Map(maps[i][0])\n",
    "for map in tqdm(maps):\n",
    "    # cf_true = cf[i][0]\n",
    "\n",
    "    # start = Node(*extract_node_pos(starts[i][0]))\n",
    "    goal_node = Node(*extract_node_pos(goals[i][0]))\n",
    "    cf_pred = fill_true_dists_8_way(goal_node, map)\n",
    "    cf_pred_arr.append([cf_pred])\n",
    "\n",
    "cf_pred_arr = np.array(cf_pred_arr)"
   ]
  },
  {
   "cell_type": "markdown",
   "metadata": {},
   "source": [
    "## Generating start and goal nodes"
   ]
  },
  {
   "cell_type": "code",
   "execution_count": null,
   "metadata": {},
   "outputs": [],
   "source": [
    "map = augmented_maps[\"train\"][0]\n"
   ]
  },
  {
   "cell_type": "markdown",
   "metadata": {},
   "source": [
    "Calc map hardness"
   ]
  },
  {
   "cell_type": "code",
   "execution_count": null,
   "metadata": {},
   "outputs": [],
   "source": [
    "## обязательно проверь сложность карт!!!!!! Желательно прям добавить её к каждой карте!!!! Раз делаешь BFS то это совсем просто!!!"
   ]
  }
 ],
 "metadata": {
  "kernelspec": {
   "display_name": "Python 3",
   "language": "python",
   "name": "python3"
  },
  "language_info": {
   "codemirror_mode": {
    "name": "ipython",
    "version": 3
   },
   "file_extension": ".py",
   "mimetype": "text/x-python",
   "name": "python",
   "nbconvert_exporter": "python",
   "pygments_lexer": "ipython3",
   "version": "3.8.10"
  }
 },
 "nbformat": 4,
 "nbformat_minor": 2
}
