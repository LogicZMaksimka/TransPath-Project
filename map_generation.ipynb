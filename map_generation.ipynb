{
 "cells": [
  {
   "cell_type": "code",
   "execution_count": 1,
   "metadata": {},
   "outputs": [],
   "source": [
    "# import pandas as pd\n",
    "import numpy as np\n",
    "from pathlib import Path\n",
    "import matplotlib.pyplot as plt\n",
    "from tqdm import tqdm\n",
    "from collections import defaultdict\n",
    "import cv2 as cv\n",
    "\n",
    "load_dir = Path(\"/archive/savkin/raw_datasets/MIPT/TransPath_data/maps\")"
   ]
  },
  {
   "cell_type": "markdown",
   "metadata": {},
   "source": [
    "* maze\n",
    "* random noise\n",
    "* street maps\n",
    "* "
   ]
  },
  {
   "cell_type": "markdown",
   "metadata": {},
   "source": [
    "## Random Maps"
   ]
  },
  {
   "cell_type": "code",
   "execution_count": 5,
   "metadata": {},
   "outputs": [],
   "source": [
    "def load_map(path):\n",
    "    with open(path, \"r\") as f:\n",
    "        lines = f.readlines()\n",
    "    height = int(lines[1].split()[1])\n",
    "    width = int(lines[2].split()[1])\n",
    "    cells = np.zeros((height, width))\n",
    "    for i, line in enumerate(lines[4:]):\n",
    "        for j, char in enumerate(line.strip()):\n",
    "            if char == '@':\n",
    "                cells[i, j] = 1\n",
    "            elif char == '.' or char == \"T\":\n",
    "                cells[i, j] = 0\n",
    "            else:\n",
    "                ValueError('Incorrect cell type')\n",
    "    return cells"
   ]
  },
  {
   "cell_type": "code",
   "execution_count": null,
   "metadata": {},
   "outputs": [],
   "source": [
    "load_dir = Path(\"/archive/savkin/raw_datasets/MIPT/TransPath_data/maps\")\n",
    "\n",
    "map = load_map(load_dir / \"random-map\" / \"random512-40-9.map\")\n",
    "\n",
    "plt.imshow(map)\n",
    "plt.show()"
   ]
  },
  {
   "cell_type": "code",
   "execution_count": null,
   "metadata": {},
   "outputs": [],
   "source": [
    "random_maps_dir = load_dir / \"random-map\"\n",
    "map_densities = np.arange(10, 41, 5)\n",
    "random_maps = []\n",
    "for density in tqdm(map_densities):\n",
    "    for i in range(10):\n",
    "        map = load_map(random_maps_dir / f\"random512-{density}-{i}.map\")\n",
    "        random_maps.append(map)\n",
    "\n",
    "random_maps = np.array(random_maps)\n",
    "random_maps.shape"
   ]
  },
  {
   "cell_type": "code",
   "execution_count": null,
   "metadata": {},
   "outputs": [],
   "source": [
    "np.save(random_maps_dir / \"all_rand_maps.npy\", random_maps)"
   ]
  },
  {
   "cell_type": "markdown",
   "metadata": {},
   "source": [
    "## Street Maps"
   ]
  },
  {
   "cell_type": "code",
   "execution_count": 7,
   "metadata": {},
   "outputs": [
    {
     "name": "stderr",
     "output_type": "stream",
     "text": [
      "90it [00:09,  9.26it/s]\n"
     ]
    }
   ],
   "source": [
    "street_maps_dir = load_dir / \"street-map\"\n",
    "street_maps = defaultdict(list)\n",
    "for path in tqdm(street_maps_dir.iterdir()):\n",
    "    map = load_map(path)\n",
    "    edge_size = map.shape[0]\n",
    "    street_maps[edge_size].append(map)"
   ]
  },
  {
   "cell_type": "code",
   "execution_count": null,
   "metadata": {},
   "outputs": [],
   "source": [
    "for edge_size, maps in street_maps.items():\n",
    "    np.save(load_dir / \"my_maps\" / f\"street_maps_{edge_size}.npy\", maps)"
   ]
  },
  {
   "cell_type": "markdown",
   "metadata": {},
   "source": [
    "## Tile MP Dataset"
   ]
  },
  {
   "cell_type": "code",
   "execution_count": 110,
   "metadata": {},
   "outputs": [
    {
     "data": {
      "image/png": "[encoded data removed]",
      "text/plain": [
       "<Figure size 640x480 with 1 Axes>"
      ]
     },
     "metadata": {},
     "output_type": "display_data"
    }
   ],
   "source": [
    "path = \"/home/savkin/MIPT/2024/TransPath Project/planning-datasets/data/mpd/all_128x2.npz\"\n",
    "\n",
    "data = np.load(path)\n",
    "\n",
    "plt.imshow(data[\"arr_0\"][0])\n",
    "plt.show()"
   ]
  },
  {
   "cell_type": "markdown",
   "metadata": {},
   "source": [
    "## Augmentations"
   ]
  },
  {
   "cell_type": "code",
   "execution_count": 23,
   "metadata": {},
   "outputs": [
    {
     "data": {
      "text/plain": [
       "(30, 1024, 1024)"
      ]
     },
     "execution_count": 23,
     "metadata": {},
     "output_type": "execute_result"
    }
   ],
   "source": [
    "maps = np.load(load_dir / \"my_maps\" / f\"street_maps_1024.npy\")\n",
    "maps.shape"
   ]
  },
  {
   "cell_type": "code",
   "execution_count": 63,
   "metadata": {},
   "outputs": [
    {
     "data": {
      "image/png": "[encoded data removed]",
      "text/plain": [
       "<Figure size 640x480 with 1 Axes>"
      ]
     },
     "metadata": {},
     "output_type": "display_data"
    }
   ],
   "source": [
    "\n",
    "def get_random_crop(image, crop_height, crop_width):\n",
    "\n",
    "    max_x = image.shape[1] - crop_width\n",
    "    max_y = image.shape[0] - crop_height\n",
    "\n",
    "    x = np.random.randint(0, max_x)\n",
    "    y = np.random.randint(0, max_y)\n",
    "\n",
    "    crop = image[y: y + crop_height, x: x + crop_width]\n",
    "\n",
    "    return crop\n",
    "\n",
    "\n",
    "\n",
    "# plt.imshow(maps[0], vmin=0, vmax=1)\n",
    "# plt.show()\n",
    "\n",
    "\n",
    "plt.imshow(get_random_crop(maps[0], 256, 256) , vmin=0, vmax=1)\n",
    "plt.show()"
   ]
  },
  {
   "cell_type": "markdown",
   "metadata": {},
   "source": []
  },
  {
   "cell_type": "code",
   "execution_count": 19,
   "metadata": {},
   "outputs": [],
   "source": [
    "from scipy import ndimage\n",
    "\n",
    "map = maps[0]\n",
    "\n",
    "augmented_maps = []\n",
    "\n",
    "for map in maps[:5]:\n",
    "    rotation_types = [cv.ROTATE_90_CLOCKWISE, cv.ROTATE_180, cv.ROTATE_90_COUNTERCLOCKWISE]\n",
    "    fliped_map = cv.flip(map, 0)\n",
    "    augmented_maps = augmented_maps + [\n",
    "        map,\n",
    "        *[cv.rotate(map, rotation_type) for rotation_type in rotation_types],\n",
    "        fliped_map,\n",
    "        *[cv.rotate(fliped_map, rotation_type) for rotation_type in rotation_types]\n",
    "    ]\n",
    "\n",
    "\n",
    "# plt.imshow(map, vmin=0, vmax=1)\n",
    "# plt.show()\n",
    "\n",
    "\n",
    "# plt.imshow(cv.flip(map, 0) , vmin=0, vmax=1)\n",
    "# plt.show()\n",
    "\n",
    "# plt.imshow(cv.rotate(map, cv.ROTATE_90_CLOCKWISE), vmin=0, vmax=1)\n",
    "# plt.show()\n",
    "\n",
    "\n",
    "# plt.imshow(cv.rotate(map, cv.ROTATE_180), vmin=0, vmax=1)\n",
    "# plt.show()\n",
    "\n",
    "# plt.imshow(cv.rotate(map, cv.ROTATE_90_COUNTERCLOCKWISE), vmin=0, vmax=1)\n",
    "# plt.show()"
   ]
  },
  {
   "cell_type": "markdown",
   "metadata": {},
   "source": [
    "## Generating start and goal nodes"
   ]
  },
  {
   "cell_type": "code",
   "execution_count": null,
   "metadata": {},
   "outputs": [],
   "source": []
  },
  {
   "cell_type": "markdown",
   "metadata": {},
   "source": [
    "Calc map hardness"
   ]
  },
  {
   "cell_type": "code",
   "execution_count": null,
   "metadata": {},
   "outputs": [],
   "source": [
    "## обязательно проверь сложность карт!!!!!! Желательно прям добавить её к каждой карте!!!! Раз делаешь BFS то это совсем просто!!!"
   ]
  },
  {
   "cell_type": "markdown",
   "metadata": {},
   "source": []
  },
  {
   "cell_type": "markdown",
   "metadata": {},
   "source": [
    "## Generate tasks"
   ]
  },
  {
   "cell_type": "code",
   "execution_count": null,
   "metadata": {},
   "outputs": [],
   "source": []
  },
  {
   "cell_type": "code",
   "execution_count": null,
   "metadata": {},
   "outputs": [],
   "source": []
  },
  {
   "cell_type": "code",
   "execution_count": null,
   "metadata": {},
   "outputs": [],
   "source": []
  },
  {
   "cell_type": "code",
   "execution_count": null,
   "metadata": {},
   "outputs": [],
   "source": [
    "import numpy as np\n",
    "\n",
    "def gen_rand_map(size, p=0.5):\n",
    "    map = np.random.binomial(1, p, size=(size, size))\n",
    "    return map\n",
    "\n",
    "gen_rand_map(20, 0.9)"
   ]
  },
  {
   "cell_type": "code",
   "execution_count": null,
   "metadata": {},
   "outputs": [],
   "source": [
    "import random\n",
    "\n",
    "def generate_maze(width, height):\n",
    "    # Initialize the maze grid as a 2D array of walls ('#') and cells (' ')\n",
    "    maze = [['#' for _ in range(width)] for _ in range(height)]\n",
    "\n",
    "    # Function to carve paths recursively using DFS\n",
    "    def carve(x, y):\n",
    "        # Define possible directions to move: right, left, down, up\n",
    "        directions = [(2, 0), (-2, 0), (0, 2), (0, -2)]\n",
    "        random.shuffle(directions)  # Randomize directions to ensure maze randomness\n",
    "        \n",
    "        for dx, dy in directions:\n",
    "            nx, ny = x + dx, y + dy  # Calculate next cell coordinates\n",
    "            if 0 < nx < width-1 and 0 < ny < height-1 and maze[ny][nx] == '#':  # Check boundaries and if cell is not carved\n",
    "                maze[ny][nx] = ' '  # Carve the new cell\n",
    "                maze[ny - dy // 2][nx - dx // 2] = ' '  # Carve the wall between the current cell and the new cell\n",
    "                carve(nx, ny)  # Recursively carve from the new cell\n",
    "\n",
    "    # Start the maze from the upper-left corner, or change this to be any odd indices cell to start elsewhere\n",
    "    maze[1][1] = ' '\n",
    "    carve(1, 1)\n",
    "\n",
    "    # Return the maze grid as a list of strings for easy display\n",
    "    return [\" \".join(row) for row in maze]\n",
    "\n",
    "def print_maze(maze):\n",
    "    for row in maze:\n",
    "        print(row)\n",
    "\n",
    "# Example of generating a 21x21 maze\n",
    "maze = generate_maze(51, 51)\n",
    "print_maze(maze)"
   ]
  }
 ],
 "metadata": {
  "kernelspec": {
   "display_name": "Python 3",
   "language": "python",
   "name": "python3"
  },
  "language_info": {
   "codemirror_mode": {
    "name": "ipython",
    "version": 3
   },
   "file_extension": ".py",
   "mimetype": "text/x-python",
   "name": "python",
   "nbconvert_exporter": "python",
   "pygments_lexer": "ipython3",
   "version": "3.8.10"
  }
 },
 "nbformat": 4,
 "nbformat_minor": 2
}
