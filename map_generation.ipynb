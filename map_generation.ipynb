{
 "cells": [
  {
   "cell_type": "code",
   "execution_count": null,
   "metadata": {},
   "outputs": [],
   "source": [
    "import pandas as pd\n",
    "import numpy as np\n",
    "from pathlib import Path\n",
    "import matplotlib.pyplot as plt\n",
    "from tqdm import tqdm\n",
    "from collections import defaultdict\n",
    "import cv2 as cv"
   ]
  },
  {
   "cell_type": "markdown",
   "metadata": {},
   "source": [
    "## Random Maps"
   ]
  },
  {
   "cell_type": "code",
   "execution_count": null,
   "metadata": {},
   "outputs": [],
   "source": [
    "def load_map(path):\n",
    "    with open(path, \"r\") as f:\n",
    "        lines = f.readlines()\n",
    "    height = int(lines[1].split()[1])\n",
    "    width = int(lines[2].split()[1])\n",
    "    cells = np.zeros((height, width))\n",
    "    for i, line in enumerate(lines[4:]):\n",
    "        for j, char in enumerate(line.strip()):\n",
    "            if char == '@':\n",
    "                cells[i, j] = 1\n",
    "            elif char == '.' or char == \"T\":\n",
    "                cells[i, j] = 0\n",
    "            else:\n",
    "                ValueError('Incorrect cell type')\n",
    "    return cells"
   ]
  },
  {
   "cell_type": "code",
   "execution_count": null,
   "metadata": {},
   "outputs": [],
   "source": [
    "load_dir = Path(\"/archive/savkin/raw_datasets/MIPT/TransPath_data/maps\")\n",
    "\n",
    "map = load_map(load_dir / \"random-map\" / \"random512-40-9.map\")\n",
    "\n",
    "plt.imshow(map)\n",
    "plt.show()"
   ]
  },
  {
   "cell_type": "code",
   "execution_count": null,
   "metadata": {},
   "outputs": [],
   "source": [
    "random_maps_dir = load_dir / \"random-map\"\n",
    "map_densities = np.arange(10, 41, 5)\n",
    "random_maps = []\n",
    "for density in tqdm(map_densities):\n",
    "    for i in range(10):\n",
    "        map = load_map(random_maps_dir / f\"random512-{density}-{i}.map\")\n",
    "        random_maps.append(map)\n",
    "\n",
    "random_maps = np.array(random_maps)\n",
    "random_maps.shape"
   ]
  },
  {
   "cell_type": "code",
   "execution_count": null,
   "metadata": {},
   "outputs": [],
   "source": [
    "np.save(random_maps_dir / \"all_rand_maps.npy\", random_maps)"
   ]
  },
  {
   "cell_type": "markdown",
   "metadata": {},
   "source": [
    "## Street Maps"
   ]
  },
  {
   "cell_type": "code",
   "execution_count": null,
   "metadata": {},
   "outputs": [],
   "source": [
    "street_maps_dir = load_dir / \"street-map\"\n",
    "street_maps = defaultdict(list)\n",
    "for path in tqdm(street_maps_dir.iterdir()):\n",
    "    map = load_map(path)\n",
    "    edge_size = map.shape[0]\n",
    "    street_maps[edge_size].append(map)"
   ]
  },
  {
   "cell_type": "code",
   "execution_count": null,
   "metadata": {},
   "outputs": [],
   "source": [
    "for edge_size, maps in street_maps.items():\n",
    "    np.save(load_dir / \"my_maps\" / f\"street_maps_{edge_size}.npy\", maps)"
   ]
  },
  {
   "cell_type": "markdown",
   "metadata": {},
   "source": [
    "## Tile MP Dataset"
   ]
  },
  {
   "cell_type": "code",
   "execution_count": null,
   "metadata": {},
   "outputs": [],
   "source": [
    "path = \"/home/logiczmaksimka/Documents/MIPT/10sem/heuristics/TransPath-Project/data/all_128x2.npz\"\n",
    "\n",
    "data = np.load(path)"
   ]
  },
  {
   "cell_type": "markdown",
   "metadata": {},
   "source": [
    "Let's take a look at generated cf"
   ]
  },
  {
   "cell_type": "code",
   "execution_count": null,
   "metadata": {},
   "outputs": [],
   "source": [
    "\n",
    "cf_pred = np.load(\"/home/logiczmaksimka/Downloads/val/cf_pred.npy\")\n",
    "cf_true = np.load(\"/home/logiczmaksimka/Downloads/val/cf.npy\")\n",
    "\n",
    "i = 0\n",
    "\n",
    "p = cf_pred[0][0]\n",
    "t = cf_true[0][0]\n",
    "\n",
    "\n",
    "plt.imshow(p, vmin=0, vmax=1)\n",
    "plt.show()\n",
    "\n",
    "plt.imshow(t)\n",
    "plt.show()"
   ]
  },
  {
   "cell_type": "markdown",
   "metadata": {},
   "source": [
    "## Augmentations"
   ]
  },
  {
   "cell_type": "code",
   "execution_count": null,
   "metadata": {},
   "outputs": [],
   "source": [
    "maps = np.load(load_dir / \"my_maps\" / f\"street_maps_1024.npy\")\n",
    "maps.shape"
   ]
  },
  {
   "cell_type": "code",
   "execution_count": null,
   "metadata": {},
   "outputs": [],
   "source": [
    "from scipy import ndimage\n",
    "\n",
    "map = maps[0]\n",
    "\n",
    "augmented_maps = []\n",
    "for map in maps[:5]:\n",
    "    rotation_types = [cv.ROTATE_90_CLOCKWISE, cv.ROTATE_180, cv.ROTATE_90_COUNTERCLOCKWISE]\n",
    "    fliped_map = cv.flip(map, 0)\n",
    "    augmented_maps = augmented_maps + [\n",
    "        map,\n",
    "        *[cv.rotate(map, rotation_type) for rotation_type in rotation_types],\n",
    "        fliped_map,\n",
    "        *[cv.rotate(fliped_map, rotation_type) for rotation_type in rotation_types]\n",
    "    ]"
   ]
  },
  {
   "cell_type": "markdown",
   "metadata": {},
   "source": [
    "## Generating start and goal nodes"
   ]
  },
  {
   "cell_type": "code",
   "execution_count": null,
   "metadata": {},
   "outputs": [],
   "source": []
  },
  {
   "cell_type": "markdown",
   "metadata": {},
   "source": [
    "Calc map hardness"
   ]
  },
  {
   "cell_type": "code",
   "execution_count": null,
   "metadata": {},
   "outputs": [],
   "source": [
    "## обязательно проверь сложность карт!!!!!! Желательно прям добавить её к каждой карте!!!! Раз делаешь BFS то это совсем просто!!!"
   ]
  }
 ],
 "metadata": {
  "kernelspec": {
   "display_name": "Python 3",
   "language": "python",
   "name": "python3"
  },
  "language_info": {
   "codemirror_mode": {
    "name": "ipython",
    "version": 3
   },
   "file_extension": ".py",
   "mimetype": "text/x-python",
   "name": "python",
   "nbconvert_exporter": "python",
   "pygments_lexer": "ipython3",
   "version": "3.12.1"
  }
 },
 "nbformat": 4,
 "nbformat_minor": 2
}
